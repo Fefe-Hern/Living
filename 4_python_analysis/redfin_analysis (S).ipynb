{
 "cells": [
  {
   "cell_type": "code",
   "execution_count": 19,
   "metadata": {},
   "outputs": [],
   "source": [
    "import pandas as pd\n",
    "import numpy as np\n",
    "from scipy.stats import zscore\n",
    "from sklearn.model_selection import train_test_split, GridSearchCV, cross_val_score\n",
    "from sklearn.linear_model import LinearRegression, LassoCV, RidgeCV, ElasticNetCV\n",
    "from sklearn.tree import DecisionTreeRegressor\n",
    "from sklearn.neighbors import KNeighborsRegressor\n",
    "from sklearn.svm import SVR\n",
    "from sklearn.metrics import mean_squared_error, r2_score\n",
    "%matplotlib inline\n",
    "import matplotlib.pyplot as plt\n",
    "import seaborn as sns"
   ]
  },
  {
   "cell_type": "code",
   "execution_count": 2,
   "metadata": {},
   "outputs": [
    {
     "data": {
      "text/html": [
       "<div>\n",
       "<style scoped>\n",
       "    .dataframe tbody tr th:only-of-type {\n",
       "        vertical-align: middle;\n",
       "    }\n",
       "\n",
       "    .dataframe tbody tr th {\n",
       "        vertical-align: top;\n",
       "    }\n",
       "\n",
       "    .dataframe thead th {\n",
       "        text-align: right;\n",
       "    }\n",
       "</style>\n",
       "<table border=\"1\" class=\"dataframe\">\n",
       "  <thead>\n",
       "    <tr style=\"text-align: right;\">\n",
       "      <th></th>\n",
       "      <th>median_list_price</th>\n",
       "      <th>homes_sold</th>\n",
       "      <th>pending_sales</th>\n",
       "      <th>new_listings</th>\n",
       "      <th>inventory</th>\n",
       "      <th>months_of_supply</th>\n",
       "      <th>median_dom</th>\n",
       "      <th>avg_sale_to_list</th>\n",
       "      <th>sold_above_list</th>\n",
       "      <th>price_drops</th>\n",
       "      <th>...</th>\n",
       "      <th>period_begin</th>\n",
       "      <th>period_end</th>\n",
       "      <th>region_Nassau County, NY</th>\n",
       "      <th>region_Suffolk County, NY</th>\n",
       "      <th>property_type_All Residential</th>\n",
       "      <th>property_type_Condo/Co-op</th>\n",
       "      <th>property_type_Multi-Family (2-4 Unit)</th>\n",
       "      <th>property_type_Single Family Residential</th>\n",
       "      <th>property_type_Townhouse</th>\n",
       "      <th>label</th>\n",
       "    </tr>\n",
       "  </thead>\n",
       "  <tbody>\n",
       "    <tr>\n",
       "      <th>0</th>\n",
       "      <td>369900.0</td>\n",
       "      <td>256.0</td>\n",
       "      <td>180.0</td>\n",
       "      <td>225.0</td>\n",
       "      <td>694.0</td>\n",
       "      <td>2.7</td>\n",
       "      <td>57.0</td>\n",
       "      <td>0.968593</td>\n",
       "      <td>0.093750</td>\n",
       "      <td>0.165706</td>\n",
       "      <td>...</td>\n",
       "      <td>736542</td>\n",
       "      <td>736572</td>\n",
       "      <td>0.0</td>\n",
       "      <td>1.0</td>\n",
       "      <td>0.0</td>\n",
       "      <td>1.0</td>\n",
       "      <td>0.0</td>\n",
       "      <td>0.0</td>\n",
       "      <td>0.0</td>\n",
       "      <td>253750.0</td>\n",
       "    </tr>\n",
       "    <tr>\n",
       "      <th>1</th>\n",
       "      <td>399000.0</td>\n",
       "      <td>13.0</td>\n",
       "      <td>13.0</td>\n",
       "      <td>17.0</td>\n",
       "      <td>65.0</td>\n",
       "      <td>5.0</td>\n",
       "      <td>84.0</td>\n",
       "      <td>0.955198</td>\n",
       "      <td>0.230769</td>\n",
       "      <td>0.138462</td>\n",
       "      <td>...</td>\n",
       "      <td>736726</td>\n",
       "      <td>736753</td>\n",
       "      <td>0.0</td>\n",
       "      <td>1.0</td>\n",
       "      <td>0.0</td>\n",
       "      <td>0.0</td>\n",
       "      <td>1.0</td>\n",
       "      <td>0.0</td>\n",
       "      <td>0.0</td>\n",
       "      <td>395000.0</td>\n",
       "    </tr>\n",
       "    <tr>\n",
       "      <th>2</th>\n",
       "      <td>520500.0</td>\n",
       "      <td>13.0</td>\n",
       "      <td>14.0</td>\n",
       "      <td>12.0</td>\n",
       "      <td>27.0</td>\n",
       "      <td>2.1</td>\n",
       "      <td>21.0</td>\n",
       "      <td>1.023050</td>\n",
       "      <td>0.384615</td>\n",
       "      <td>0.148148</td>\n",
       "      <td>...</td>\n",
       "      <td>738064</td>\n",
       "      <td>738094</td>\n",
       "      <td>0.0</td>\n",
       "      <td>1.0</td>\n",
       "      <td>0.0</td>\n",
       "      <td>0.0</td>\n",
       "      <td>0.0</td>\n",
       "      <td>0.0</td>\n",
       "      <td>1.0</td>\n",
       "      <td>475000.0</td>\n",
       "    </tr>\n",
       "    <tr>\n",
       "      <th>3</th>\n",
       "      <td>599000.0</td>\n",
       "      <td>19.0</td>\n",
       "      <td>15.0</td>\n",
       "      <td>18.0</td>\n",
       "      <td>19.0</td>\n",
       "      <td>1.0</td>\n",
       "      <td>29.0</td>\n",
       "      <td>1.031189</td>\n",
       "      <td>0.578947</td>\n",
       "      <td>0.052632</td>\n",
       "      <td>...</td>\n",
       "      <td>738733</td>\n",
       "      <td>738763</td>\n",
       "      <td>0.0</td>\n",
       "      <td>1.0</td>\n",
       "      <td>0.0</td>\n",
       "      <td>0.0</td>\n",
       "      <td>0.0</td>\n",
       "      <td>0.0</td>\n",
       "      <td>1.0</td>\n",
       "      <td>540000.0</td>\n",
       "    </tr>\n",
       "    <tr>\n",
       "      <th>4</th>\n",
       "      <td>349997.0</td>\n",
       "      <td>823.0</td>\n",
       "      <td>776.0</td>\n",
       "      <td>2335.0</td>\n",
       "      <td>8311.0</td>\n",
       "      <td>10.1</td>\n",
       "      <td>141.0</td>\n",
       "      <td>0.948178</td>\n",
       "      <td>0.100851</td>\n",
       "      <td>0.178679</td>\n",
       "      <td>...</td>\n",
       "      <td>734959</td>\n",
       "      <td>734988</td>\n",
       "      <td>0.0</td>\n",
       "      <td>1.0</td>\n",
       "      <td>1.0</td>\n",
       "      <td>0.0</td>\n",
       "      <td>0.0</td>\n",
       "      <td>0.0</td>\n",
       "      <td>0.0</td>\n",
       "      <td>300000.0</td>\n",
       "    </tr>\n",
       "  </tbody>\n",
       "</table>\n",
       "<p>5 rows × 21 columns</p>\n",
       "</div>"
      ],
      "text/plain": [
       "   median_list_price  homes_sold  pending_sales  new_listings  inventory  \\\n",
       "0           369900.0       256.0          180.0         225.0      694.0   \n",
       "1           399000.0        13.0           13.0          17.0       65.0   \n",
       "2           520500.0        13.0           14.0          12.0       27.0   \n",
       "3           599000.0        19.0           15.0          18.0       19.0   \n",
       "4           349997.0       823.0          776.0        2335.0     8311.0   \n",
       "\n",
       "   months_of_supply  median_dom  avg_sale_to_list  sold_above_list  \\\n",
       "0               2.7        57.0          0.968593         0.093750   \n",
       "1               5.0        84.0          0.955198         0.230769   \n",
       "2               2.1        21.0          1.023050         0.384615   \n",
       "3               1.0        29.0          1.031189         0.578947   \n",
       "4              10.1       141.0          0.948178         0.100851   \n",
       "\n",
       "   price_drops  ...  period_begin  period_end  region_Nassau County, NY  \\\n",
       "0     0.165706  ...        736542      736572                       0.0   \n",
       "1     0.138462  ...        736726      736753                       0.0   \n",
       "2     0.148148  ...        738064      738094                       0.0   \n",
       "3     0.052632  ...        738733      738763                       0.0   \n",
       "4     0.178679  ...        734959      734988                       0.0   \n",
       "\n",
       "   region_Suffolk County, NY  property_type_All Residential  \\\n",
       "0                        1.0                            0.0   \n",
       "1                        1.0                            0.0   \n",
       "2                        1.0                            0.0   \n",
       "3                        1.0                            0.0   \n",
       "4                        1.0                            1.0   \n",
       "\n",
       "   property_type_Condo/Co-op  property_type_Multi-Family (2-4 Unit)  \\\n",
       "0                        1.0                                    0.0   \n",
       "1                        0.0                                    1.0   \n",
       "2                        0.0                                    0.0   \n",
       "3                        0.0                                    0.0   \n",
       "4                        0.0                                    0.0   \n",
       "\n",
       "   property_type_Single Family Residential  property_type_Townhouse     label  \n",
       "0                                      0.0                      0.0  253750.0  \n",
       "1                                      0.0                      0.0  395000.0  \n",
       "2                                      0.0                      1.0  475000.0  \n",
       "3                                      0.0                      1.0  540000.0  \n",
       "4                                      0.0                      0.0  300000.0  \n",
       "\n",
       "[5 rows x 21 columns]"
      ]
     },
     "execution_count": 2,
     "metadata": {},
     "output_type": "execute_result"
    }
   ],
   "source": [
    "redfin = pd.read_csv('../3_data_cleaned/redfin_market_tracker_LI_cleanup_S.csv')\n",
    "redfin.head()"
   ]
  },
  {
   "cell_type": "code",
   "execution_count": 3,
   "metadata": {},
   "outputs": [
    {
     "name": "stdout",
     "output_type": "stream",
     "text": [
      "<class 'pandas.core.frame.DataFrame'>\n",
      "RangeIndex: 1406 entries, 0 to 1405\n",
      "Data columns (total 21 columns):\n",
      " #   Column                                   Non-Null Count  Dtype  \n",
      "---  ------                                   --------------  -----  \n",
      " 0   median_list_price                        1406 non-null   float64\n",
      " 1   homes_sold                               1406 non-null   float64\n",
      " 2   pending_sales                            1406 non-null   float64\n",
      " 3   new_listings                             1406 non-null   float64\n",
      " 4   inventory                                1406 non-null   float64\n",
      " 5   months_of_supply                         1406 non-null   float64\n",
      " 6   median_dom                               1406 non-null   float64\n",
      " 7   avg_sale_to_list                         1406 non-null   float64\n",
      " 8   sold_above_list                          1406 non-null   float64\n",
      " 9   price_drops                              1406 non-null   float64\n",
      " 10  off_market_in_two_weeks                  1406 non-null   float64\n",
      " 11  period_begin                             1406 non-null   int64  \n",
      " 12  period_end                               1406 non-null   int64  \n",
      " 13  region_Nassau County, NY                 1406 non-null   float64\n",
      " 14  region_Suffolk County, NY                1406 non-null   float64\n",
      " 15  property_type_All Residential            1406 non-null   float64\n",
      " 16  property_type_Condo/Co-op                1406 non-null   float64\n",
      " 17  property_type_Multi-Family (2-4 Unit)    1406 non-null   float64\n",
      " 18  property_type_Single Family Residential  1406 non-null   float64\n",
      " 19  property_type_Townhouse                  1406 non-null   float64\n",
      " 20  label                                    1406 non-null   float64\n",
      "dtypes: float64(19), int64(2)\n",
      "memory usage: 230.8 KB\n"
     ]
    }
   ],
   "source": [
    "redfin.info()"
   ]
  },
  {
   "cell_type": "code",
   "execution_count": 4,
   "metadata": {},
   "outputs": [
    {
     "name": "stdout",
     "output_type": "stream",
     "text": [
      "      median_list_price  homes_sold  pending_sales  new_listings  inventory  \\\n",
      "0             -1.015265   -0.389170      -0.429066     -0.550728  -0.572706   \n",
      "1             -0.751073   -0.848442      -0.805829     -0.840310  -0.811630   \n",
      "2              0.351998   -0.848442      -0.803573     -0.847271  -0.826064   \n",
      "3              1.064681   -0.837102      -0.801317     -0.838918  -0.829103   \n",
      "4             -1.195960    0.682465       0.915550      2.386855   2.320593   \n",
      "...                 ...         ...            ...           ...        ...   \n",
      "1401          -0.569497   -0.564941      -0.690769     -0.616163  -0.363790   \n",
      "1402          -0.975772   -0.527140      -0.505772     -0.485294  -0.497496   \n",
      "1403           0.156804    0.200513       0.689944      1.618349   1.037468   \n",
      "1404           1.064681   -0.867342      -0.832902     -0.857017  -0.829863   \n",
      "1405          -0.297134    0.497244       0.202633      0.143989   0.911358   \n",
      "\n",
      "      months_of_supply  median_dom  avg_sale_to_list  sold_above_list  \\\n",
      "0            -0.556197   -0.293950         -0.002089        -0.673467   \n",
      "1            -0.222357    0.168328         -0.483432         0.097121   \n",
      "2            -0.643286   -0.910321          1.954869         0.962342   \n",
      "3            -0.802949   -0.773350          2.247343         2.055254   \n",
      "4             0.517897    1.144249         -0.735714        -0.633534   \n",
      "...                ...         ...               ...              ...   \n",
      "1401          0.155027    0.681971         -1.122801        -0.993695   \n",
      "1402         -0.236872   -0.139857         -0.246839        -0.770465   \n",
      "1403          0.314690    0.373785         -0.388459        -0.557127   \n",
      "1404         -0.120754    1.811984         -0.429052         0.673935   \n",
      "1405         -0.033665    0.014235         -0.693668        -0.688739   \n",
      "\n",
      "      price_drops  off_market_in_two_weeks  period_begin  period_end  \\\n",
      "0       -0.057000                -0.651546     -0.071368   -0.070909   \n",
      "1       -0.440817                -1.305064      0.077134    0.075172   \n",
      "2       -0.304353                -0.810806      1.157003    1.157464   \n",
      "3       -1.649977                 2.846701      1.696938    1.697400   \n",
      "4        0.125759                -0.279607     -1.348972   -1.349322   \n",
      "...           ...                      ...           ...         ...   \n",
      "1401    -0.035917                -0.440113     -1.545092   -1.544635   \n",
      "1402    -0.290900                -0.072805     -0.415183   -0.415532   \n",
      "1403     0.195948                 0.005158     -0.759805   -0.760154   \n",
      "1404     4.238138                -1.305064      0.542818    0.542470   \n",
      "1405    -0.379767                -0.522848     -0.881674   -0.882023   \n",
      "\n",
      "      region_Nassau County, NY  region_Suffolk County, NY  \\\n",
      "0                    -0.998579                   0.998579   \n",
      "1                    -0.998579                   0.998579   \n",
      "2                    -0.998579                   0.998579   \n",
      "3                    -0.998579                   0.998579   \n",
      "4                    -0.998579                   0.998579   \n",
      "...                        ...                        ...   \n",
      "1401                  1.001423                  -1.001423   \n",
      "1402                 -0.998579                   0.998579   \n",
      "1403                  1.001423                  -1.001423   \n",
      "1404                  1.001423                  -1.001423   \n",
      "1405                  1.001423                  -1.001423   \n",
      "\n",
      "      property_type_All Residential  property_type_Condo/Co-op  \\\n",
      "0                         -0.500889                   1.996451   \n",
      "1                         -0.500889                  -0.500889   \n",
      "2                         -0.500889                  -0.500889   \n",
      "3                         -0.500889                  -0.500889   \n",
      "4                          1.996451                  -0.500889   \n",
      "...                             ...                        ...   \n",
      "1401                      -0.500889                   1.996451   \n",
      "1402                      -0.500889                   1.996451   \n",
      "1403                      -0.500889                  -0.500889   \n",
      "1404                      -0.500889                  -0.500889   \n",
      "1405                      -0.500889                  -0.500889   \n",
      "\n",
      "      property_type_Multi-Family (2-4 Unit)  \\\n",
      "0                                 -0.500889   \n",
      "1                                  1.996451   \n",
      "2                                 -0.500889   \n",
      "3                                 -0.500889   \n",
      "4                                 -0.500889   \n",
      "...                                     ...   \n",
      "1401                              -0.500889   \n",
      "1402                              -0.500889   \n",
      "1403                              -0.500889   \n",
      "1404                              -0.500889   \n",
      "1405                              -0.500889   \n",
      "\n",
      "      property_type_Single Family Residential  property_type_Townhouse  \n",
      "0                                   -0.500889                -0.496441  \n",
      "1                                   -0.500889                -0.496441  \n",
      "2                                   -0.500889                 2.014337  \n",
      "3                                   -0.500889                 2.014337  \n",
      "4                                   -0.500889                -0.496441  \n",
      "...                                       ...                      ...  \n",
      "1401                                -0.500889                -0.496441  \n",
      "1402                                -0.500889                -0.496441  \n",
      "1403                                 1.996451                -0.496441  \n",
      "1404                                -0.500889                 2.014337  \n",
      "1405                                 1.996451                -0.496441  \n",
      "\n",
      "[1406 rows x 20 columns]\n",
      "0      -1.270901\n",
      "1      -0.325412\n",
      "2       0.210086\n",
      "3       0.645179\n",
      "4      -0.961316\n",
      "          ...   \n",
      "1401   -0.961316\n",
      "1402   -1.296002\n",
      "1403    0.109680\n",
      "1404    1.716175\n",
      "1405   -0.057663\n",
      "Name: label, Length: 1406, dtype: float64\n"
     ]
    }
   ],
   "source": [
    "y = redfin['label']\n",
    "X = redfin.drop(columns='label')\n",
    "\n",
    "X_std = zscore(X)\n",
    "y_std = zscore(y)\n",
    "print(X_std)\n",
    "print(y_std)\n"
   ]
  },
  {
   "cell_type": "code",
   "execution_count": 5,
   "metadata": {},
   "outputs": [
    {
     "name": "stdout",
     "output_type": "stream",
     "text": [
      "(984, 20)\n",
      "(422, 20)\n",
      "(984,)\n",
      "(422,)\n"
     ]
    }
   ],
   "source": [
    "X_train, X_test, y_train, y_test = train_test_split(X_std, y_std, test_size=0.3, random_state=1234)\n",
    "print(X_train.shape)\n",
    "print(X_test.shape)\n",
    "print(y_train.shape)\n",
    "print(y_test.shape)"
   ]
  },
  {
   "cell_type": "markdown",
   "metadata": {},
   "source": [
    "Linear Regression Model (With Lasso, Ridge, and Elastic Net Regression)"
   ]
  },
  {
   "cell_type": "code",
   "execution_count": 6,
   "metadata": {},
   "outputs": [
    {
     "name": "stdout",
     "output_type": "stream",
     "text": [
      "[LR] Root Mean Squared Error: 0.5303776706704455\n",
      "[LR] R2: 0.7165814168287195\n"
     ]
    }
   ],
   "source": [
    "lr_model = LinearRegression()\n",
    "lr_model.fit(X_train, y_train)\n",
    "y_lr_pred = lr_model.predict(X_test)\n",
    "lr_rmse = mean_squared_error(y_test, y_lr_pred, squared=False)\n",
    "lr_r2 = r2_score(y_test, y_lr_pred)\n",
    "\n",
    "print('[LR] Root Mean Squared Error: {0}'.format(lr_rmse))\n",
    "print('[LR] R2: {0}'.format(lr_r2))"
   ]
  },
  {
   "cell_type": "code",
   "execution_count": 20,
   "metadata": {},
   "outputs": [
    {
     "name": "stdout",
     "output_type": "stream",
     "text": [
      "[Lasso] Root Mean Squared Error: 0.5283395043754161\n",
      "[Lasso] R2: 0.7187555064023516\n"
     ]
    }
   ],
   "source": [
    "lasso_model = LassoCV(cv=5)\n",
    "lasso_model.fit(X_train, y_train)\n",
    "y_lasso_pred = lasso_model.predict(X_test)\n",
    "lasso_rmse = mean_squared_error(y_test, y_lasso_pred, squared=False)\n",
    "lasso_r2 = r2_score(y_test, y_lasso_pred)\n",
    "\n",
    "print('[Lasso] Root Mean Squared Error: {0}'.format(lasso_rmse))\n",
    "print('[Lasso] R2: {0}'.format(lasso_r2))"
   ]
  },
  {
   "cell_type": "code",
   "execution_count": 21,
   "metadata": {},
   "outputs": [
    {
     "name": "stdout",
     "output_type": "stream",
     "text": [
      "[Ridge] Root Mean Squared Error: 0.5306484787716752\n",
      "[Ridge] R2: 0.7162919188079424\n"
     ]
    }
   ],
   "source": [
    "ridge_model = RidgeCV(cv=5)\n",
    "ridge_model.fit(X_train, y_train)\n",
    "y_ridge_pred = ridge_model.predict(X_test)\n",
    "ridge_rmse = mean_squared_error(y_test, y_ridge_pred, squared=False)\n",
    "ridge_r2 = r2_score(y_test, y_ridge_pred)\n",
    "\n",
    "print('[Ridge] Root Mean Squared Error: {0}'.format(ridge_rmse))\n",
    "print('[Ridge] R2: {0}'.format(ridge_r2))"
   ]
  },
  {
   "cell_type": "code",
   "execution_count": 22,
   "metadata": {},
   "outputs": [
    {
     "name": "stdout",
     "output_type": "stream",
     "text": [
      "[EN] Root Mean Squared Error: 0.5261417132193911\n",
      "[EN] R2: 0.7210904862103531\n"
     ]
    }
   ],
   "source": [
    "en_model = ElasticNetCV(cv=5)\n",
    "en_model.fit(X_train, y_train)\n",
    "y_en_pred = en_model.predict(X_test)\n",
    "en_rmse = mean_squared_error(y_test, y_en_pred, squared=False)\n",
    "en_r2 = r2_score(y_test, y_en_pred)\n",
    "\n",
    "print('[EN] Root Mean Squared Error: {0}'.format(en_rmse))\n",
    "print('[EN] R2: {0}'.format(en_r2))"
   ]
  },
  {
   "cell_type": "markdown",
   "metadata": {},
   "source": [
    "KNN Model"
   ]
  },
  {
   "cell_type": "code",
   "execution_count": 7,
   "metadata": {},
   "outputs": [
    {
     "data": {
      "text/plain": [
       "{'n_neighbors': [1, 2, 3, 4, 5, 6, 7, 8, 9]}"
      ]
     },
     "execution_count": 7,
     "metadata": {},
     "output_type": "execute_result"
    }
   ],
   "source": [
    "param_grid_KNN = dict(n_neighbors = list(range(1,10)))\n",
    "param_grid_KNN "
   ]
  },
  {
   "cell_type": "code",
   "execution_count": 8,
   "metadata": {},
   "outputs": [
    {
     "name": "stdout",
     "output_type": "stream",
     "text": [
      "Running Grid Search...\n",
      "Done\n",
      "{'n_neighbors': 7}\n"
     ]
    }
   ],
   "source": [
    "print('Running Grid Search...')\n",
    "model_KNN = KNeighborsRegressor()\n",
    "grid_KNN = GridSearchCV(model_KNN, param_grid_KNN, cv=5)\n",
    "grid_search_KNN = grid_KNN.fit(X_train, y_train)\n",
    "print('Done')\n",
    "print(grid_search_KNN.best_params_)"
   ]
  },
  {
   "cell_type": "code",
   "execution_count": 10,
   "metadata": {},
   "outputs": [
    {
     "name": "stdout",
     "output_type": "stream",
     "text": [
      "[KNN] Root Mean Squared Error: 0.4793572618288118\n",
      "[KNN] R2: 0.7684864143976577\n"
     ]
    }
   ],
   "source": [
    "best_model_KNN = KNeighborsRegressor(n_neighbors=7)\n",
    "best_model_KNN.fit(X_train, y_train)\n",
    "y_KNN_pred = best_model_KNN.predict(X_test)\n",
    "KNN_rmse = mean_squared_error(y_test, y_KNN_pred, squared=False)\n",
    "KNN_r2 = r2_score(y_test, y_KNN_pred)\n",
    "\n",
    "print('[KNN] Root Mean Squared Error: {0}'.format(KNN_rmse))\n",
    "print('[KNN] R2: {0}'.format(KNN_r2))"
   ]
  },
  {
   "cell_type": "markdown",
   "metadata": {},
   "source": [
    "Decision Tree Model"
   ]
  },
  {
   "cell_type": "code",
   "execution_count": 11,
   "metadata": {},
   "outputs": [
    {
     "data": {
      "text/plain": [
       "{'max_depth': [2, 4, 8, 16]}"
      ]
     },
     "execution_count": 11,
     "metadata": {},
     "output_type": "execute_result"
    }
   ],
   "source": [
    "param_grid_DT = dict(max_depth = [2, 4, 8, 16])\n",
    "param_grid_DT"
   ]
  },
  {
   "cell_type": "code",
   "execution_count": 12,
   "metadata": {},
   "outputs": [
    {
     "name": "stdout",
     "output_type": "stream",
     "text": [
      "Running Grid Search...\n",
      "Done\n",
      "{'max_depth': 4}\n"
     ]
    }
   ],
   "source": [
    "print('Running Grid Search...')\n",
    "model_DT = DecisionTreeRegressor()\n",
    "grid_DT = GridSearchCV(model_DT, param_grid_DT, cv=5)\n",
    "grid_search_DT = grid_DT.fit(X_train, y_train)\n",
    "print('Done')\n",
    "print(grid_search_DT.best_params_)"
   ]
  },
  {
   "cell_type": "code",
   "execution_count": 13,
   "metadata": {},
   "outputs": [
    {
     "name": "stdout",
     "output_type": "stream",
     "text": [
      "[DT] Root Mean Squared Error: 0.5251534431900227\n",
      "[DT] R2: 0.7221372727942366\n"
     ]
    }
   ],
   "source": [
    "best_model_DT = DecisionTreeRegressor(max_depth=4)\n",
    "best_model_DT.fit(X_train, y_train)\n",
    "y_DT_pred = best_model_DT.predict(X_test)\n",
    "DT_rmse = mean_squared_error(y_test, y_DT_pred, squared=False)\n",
    "DT_r2 = r2_score(y_test, y_DT_pred)\n",
    "\n",
    "print('[DT] Root Mean Squared Error: {0}'.format(DT_rmse))\n",
    "print('[DT] R2: {0}'.format(DT_r2))"
   ]
  },
  {
   "cell_type": "markdown",
   "metadata": {},
   "source": [
    "Support Vector Machine Model"
   ]
  },
  {
   "cell_type": "code",
   "execution_count": 16,
   "metadata": {},
   "outputs": [
    {
     "name": "stdout",
     "output_type": "stream",
     "text": [
      "[SV] Root Mean Squared Error: 0.5528130409481804\n",
      "[SV] R2: 0.692096646858672\n"
     ]
    }
   ],
   "source": [
    "model_SV = SVR(kernel='linear')\n",
    "model_SV.fit(X_train, y_train)\n",
    "y_SV_pred = model_SV.predict(X_test)\n",
    "SV_rmse = mean_squared_error(y_test, y_SV_pred, squared=False)\n",
    "SV_r2 = r2_score(y_test, y_SV_pred)\n",
    "\n",
    "print('[SV] Root Mean Squared Error: {0}'.format(SV_rmse))\n",
    "print('[SV] R2: {0}'.format(SV_r2))"
   ]
  },
  {
   "cell_type": "code",
   "execution_count": 23,
   "metadata": {},
   "outputs": [
    {
     "data": {
      "image/png": "[encoded data removed]",
      "text/plain": [
       "<Figure size 640x480 with 1 Axes>"
      ]
     },
     "metadata": {},
     "output_type": "display_data"
    }
   ],
   "source": [
    "RMSE_Results = [lr_rmse, lasso_rmse, ridge_rmse, en_rmse, KNN_rmse, DT_rmse, SV_rmse]\n",
    "R2_Results = [lr_r2, lasso_r2, ridge_r2, en_r2, KNN_r2, DT_r2, SV_r2]\n",
    "labels = ['LR', 'Lasso', 'Ridge', 'EN', 'KNN', 'DT', 'SV']\n",
    "\n",
    "rg= np.arange(7)\n",
    "width = 0.35\n",
    "plt.bar(rg, RMSE_Results, width, label=\"RMSE\")\n",
    "plt.bar(rg+width, R2_Results, width, label='R2')\n",
    "plt.xticks(rg + width/2, labels)\n",
    "plt.xlabel(\"Models\")\n",
    "plt.ylabel(\"RMSE/R2\")\n",
    "plt.ylim([0,1])\n",
    "\n",
    "plt.title('Model Performance')\n",
    "plt.legend(loc='upper left', ncol=2)\n",
    "plt.show()"
   ]
  },
  {
   "cell_type": "markdown",
   "metadata": {},
   "source": [
    "The K-Nearest Neighbors model has the best performance. It has the lowest root mean squared error and the highest r2 value."
   ]
  }
 ],
 "metadata": {
  "kernelspec": {
   "display_name": "Python 3",
   "language": "python",
   "name": "python3"
  },
  "language_info": {
   "codemirror_mode": {
    "name": "ipython",
    "version": 3
   },
   "file_extension": ".py",
   "mimetype": "text/x-python",
   "name": "python",
   "nbconvert_exporter": "python",
   "pygments_lexer": "ipython3",
   "version": "3.8.6"
  }
 },
 "nbformat": 4,
 "nbformat_minor": 2
}
